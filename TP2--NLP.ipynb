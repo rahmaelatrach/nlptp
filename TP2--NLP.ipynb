{
  "nbformat": 4,
  "nbformat_minor": 0,
  "metadata": {
    "colab": {
      "provenance": []
    },
    "kernelspec": {
      "name": "python3",
      "display_name": "Python 3"
    },
    "language_info": {
      "name": "python"
    }
  },
  "cells": [
    {
      "cell_type": "code",
      "source": [
        "import re\n",
        "import nltk\n",
        "from nltk.tokenize import word_tokenize\n",
        "from nltk.corpus import stopwords\n",
        "from nltk.stem import WordNetLemmatizer\n",
        "from gensim.models import Word2Vec\n",
        "\n",
        "nltk.download('punkt')\n",
        "nltk.download('wordnet')\n",
        "nltk.download('stopwords')\n"
      ],
      "metadata": {
        "colab": {
          "base_uri": "https://localhost:8080/"
        },
        "id": "Wx6WU3Wy_Xtv",
        "outputId": "e9ceddb0-8f42-4c2f-b4ca-caed3baf0649"
      },
      "execution_count": 24,
      "outputs": [
        {
          "output_type": "stream",
          "name": "stderr",
          "text": [
            "[nltk_data] Downloading package punkt to /root/nltk_data...\n",
            "[nltk_data]   Package punkt is already up-to-date!\n",
            "[nltk_data] Downloading package wordnet to /root/nltk_data...\n",
            "[nltk_data]   Package wordnet is already up-to-date!\n",
            "[nltk_data] Downloading package stopwords to /root/nltk_data...\n",
            "[nltk_data]   Package stopwords is already up-to-date!\n"
          ]
        },
        {
          "output_type": "execute_result",
          "data": {
            "text/plain": [
              "True"
            ]
          },
          "metadata": {},
          "execution_count": 24
        }
      ]
    },
    {
      "cell_type": "code",
      "source": [
        "# Fonction de prétraitement du texte\n",
        "def preprocess_text(text):\n",
        "\n",
        "    # Suppression de la ponctuation\n",
        "    text = re.sub(r'[^\\w\\s]', '', text)\n",
        "\n",
        "    # Tokenization\n",
        "    tokens = word_tokenize(text)\n",
        "\n",
        "    # Lemmatization\n",
        "    lemmatizer = WordNetLemmatizer()\n",
        "    tokens = [lemmatizer.lemmatize(token.lower()) for token in tokens]\n",
        "\n",
        "    # Suppression des mots vides\n",
        "    stop_words = set(stopwords.words('english'))\n",
        "    tokens = [token for token in tokens if token not in stop_words]\n",
        "\n",
        "    return tokens"
      ],
      "metadata": {
        "id": "ErngUBC-_htq"
      },
      "execution_count": 25,
      "outputs": []
    },
    {
      "cell_type": "code",
      "source": [
        "# Lecture du fichier texte\n",
        "file_path = \"/content/text\"\n",
        "with open(file_path, 'r', encoding='utf-8') as file:\n",
        "    text = file.read()\n",
        "print(text)"
      ],
      "metadata": {
        "colab": {
          "base_uri": "https://localhost:8080/"
        },
        "id": "fDjTC2LH_3Lf",
        "outputId": "e667045d-19f5-4265-8fbc-c370468a894c"
      },
      "execution_count": 26,
      "outputs": [
        {
          "output_type": "stream",
          "name": "stdout",
          "text": [
            "**Morocco and Marrakech: A Tapestry of Tradition and Modernity** Morocco, located at the crossroads of Europe and Africa, is a country drenched in history, mystery, and cultural richness. A testament to the ancient civilizations that once flourished here, this North African kingdom boasts a unique blend of Arab, Berber, and European influences. At the heart of Morocco's rich tapestry lies Marrakech, one of its four imperial cities and a vibrant epicenter of tradition and modernity. **Geographical Significance** Morocco is bordered by the Atlantic Ocean to the west, the Mediterranean Sea to the north, Algeria to the east and southeast, and the vast Sahara desert to the south. Its strategic location has historically made it a sought-after territory and a melting pot of cultures, religions, and trade routes. **Marrakech: The Red City** Marrakech, often referred to as \"The Red City\" due to its distinctive red-hued buildings, stands against the backdrop of the snow-capped Atlas Mountains. Established in the 11th century, it has remained a crucial political, economic, and cultural center of Morocco. **Journey through the Medina** Marrakech's old town, the Medina, is a UNESCO World Heritage site and a labyrinthine maze of narrow alleys, bustling souks, and historical landmarks. The Djemaa el-Fna Square lies at the heart of the Medina and comes alive every evening with storytellers, musicians, snake charmers, and food stalls offering tantalizing Moroccan delicacies. **Palaces and Gardens** The city is also home to grand palaces like the Bahia Palace, showcasing intricate Islamic architecture, and the Saadian Tombs, remnants of the Saadian dynasty. The Majorelle Garden, restored by the fashion designer Yves Saint Laurent, is a tranquil oasis of cacti, palm trees, and cobalt blue accents. **Modern Marrakech** While tradition and history permeate Marrakech, the city is not averse to the modern world. Gueliz, the new town, is brimming with contemporary art galleries, stylish cafes, and chic boutiques, offering a stark contrast to the ancient Medina. **Moroccan Cuisine** No journey through Morocco and Marrakech would be complete without indulging in the local cuisine. Tagines, couscous, and pastilla are just a few of the many dishes that combine a plethora of flavors and spices like saffron, cumin, and mint. Paired with Moroccan mint tea, the culinary experience is truly unparalleled. **In Conclusion** Morocco, with Marrakech at its heart, offers travelers an unparalleled journey through time. The convergence of history, culture, architecture, and gastronomy makes it an enthralling destination for those seeking both adventure and reflection. As the Moroccan proverb goes, \"He who does not travel does not know the value of men.\" In the case of Morocco and Marrakech, it's not just the value of men, but also the value of time, tradition, and tales that have spanned centuries.\n"
          ]
        }
      ]
    },
    {
      "cell_type": "code",
      "source": [
        "# Prétraitement du texte\n",
        "preprocessed_text = preprocess_text(text)\n",
        "\n",
        "#Affichage du texte et liste\n",
        "print(preprocessed_text)\n",
        "text = ' '.join(preprocessed_text)\n",
        "print(\"\\n\\n\")\n",
        "print(text)\n"
      ],
      "metadata": {
        "colab": {
          "base_uri": "https://localhost:8080/"
        },
        "id": "BPtnm2yHALqS",
        "outputId": "f01cb7c0-02b3-4710-ce1b-32542f277add"
      },
      "execution_count": 27,
      "outputs": [
        {
          "output_type": "stream",
          "name": "stdout",
          "text": [
            "['morocco', 'marrakech', 'tapestry', 'tradition', 'modernity', 'morocco', 'located', 'crossroad', 'europe', 'africa', 'country', 'drenched', 'history', 'mystery', 'cultural', 'richness', 'testament', 'ancient', 'civilization', 'flourished', 'north', 'african', 'kingdom', 'boast', 'unique', 'blend', 'arab', 'berber', 'european', 'influence', 'heart', 'morocco', 'rich', 'tapestry', 'lie', 'marrakech', 'one', 'four', 'imperial', 'city', 'vibrant', 'epicenter', 'tradition', 'modernity', 'geographical', 'significance', 'morocco', 'bordered', 'atlantic', 'ocean', 'west', 'mediterranean', 'sea', 'north', 'algeria', 'east', 'southeast', 'vast', 'sahara', 'desert', 'south', 'strategic', 'location', 'ha', 'historically', 'made', 'soughtafter', 'territory', 'melting', 'pot', 'culture', 'religion', 'trade', 'route', 'marrakech', 'red', 'city', 'marrakech', 'often', 'referred', 'red', 'city', 'due', 'distinctive', 'redhued', 'building', 'stand', 'backdrop', 'snowcapped', 'atlas', 'mountain', 'established', '11th', 'century', 'ha', 'remained', 'crucial', 'political', 'economic', 'cultural', 'center', 'morocco', 'journey', 'medina', 'marrakech', 'old', 'town', 'medina', 'unesco', 'world', 'heritage', 'site', 'labyrinthine', 'maze', 'narrow', 'alley', 'bustling', 'souk', 'historical', 'landmark', 'djemaa', 'elfna', 'square', 'lie', 'heart', 'medina', 'come', 'alive', 'every', 'evening', 'storyteller', 'musician', 'snake', 'charmer', 'food', 'stall', 'offering', 'tantalizing', 'moroccan', 'delicacy', 'palace', 'garden', 'city', 'also', 'home', 'grand', 'palace', 'like', 'bahia', 'palace', 'showcasing', 'intricate', 'islamic', 'architecture', 'saadian', 'tomb', 'remnant', 'saadian', 'dynasty', 'majorelle', 'garden', 'restored', 'fashion', 'designer', 'yves', 'saint', 'laurent', 'tranquil', 'oasis', 'cactus', 'palm', 'tree', 'cobalt', 'blue', 'accent', 'modern', 'marrakech', 'tradition', 'history', 'permeate', 'marrakech', 'city', 'averse', 'modern', 'world', 'gueliz', 'new', 'town', 'brimming', 'contemporary', 'art', 'gallery', 'stylish', 'cafe', 'chic', 'boutique', 'offering', 'stark', 'contrast', 'ancient', 'medina', 'moroccan', 'cuisine', 'journey', 'morocco', 'marrakech', 'would', 'complete', 'without', 'indulging', 'local', 'cuisine', 'tagines', 'couscous', 'pastilla', 'many', 'dish', 'combine', 'plethora', 'flavor', 'spice', 'like', 'saffron', 'cumin', 'mint', 'paired', 'moroccan', 'mint', 'tea', 'culinary', 'experience', 'truly', 'unparalleled', 'conclusion', 'morocco', 'marrakech', 'heart', 'offer', 'traveler', 'unparalleled', 'journey', 'time', 'convergence', 'history', 'culture', 'architecture', 'gastronomy', 'make', 'enthralling', 'destination', 'seeking', 'adventure', 'reflection', 'moroccan', 'proverb', 'go', 'doe', 'travel', 'doe', 'know', 'value', 'men', 'case', 'morocco', 'marrakech', 'value', 'men', 'also', 'value', 'time', 'tradition', 'tale', 'spanned', 'century']\n",
            "\n",
            "\n",
            "\n",
            "morocco marrakech tapestry tradition modernity morocco located crossroad europe africa country drenched history mystery cultural richness testament ancient civilization flourished north african kingdom boast unique blend arab berber european influence heart morocco rich tapestry lie marrakech one four imperial city vibrant epicenter tradition modernity geographical significance morocco bordered atlantic ocean west mediterranean sea north algeria east southeast vast sahara desert south strategic location ha historically made soughtafter territory melting pot culture religion trade route marrakech red city marrakech often referred red city due distinctive redhued building stand backdrop snowcapped atlas mountain established 11th century ha remained crucial political economic cultural center morocco journey medina marrakech old town medina unesco world heritage site labyrinthine maze narrow alley bustling souk historical landmark djemaa elfna square lie heart medina come alive every evening storyteller musician snake charmer food stall offering tantalizing moroccan delicacy palace garden city also home grand palace like bahia palace showcasing intricate islamic architecture saadian tomb remnant saadian dynasty majorelle garden restored fashion designer yves saint laurent tranquil oasis cactus palm tree cobalt blue accent modern marrakech tradition history permeate marrakech city averse modern world gueliz new town brimming contemporary art gallery stylish cafe chic boutique offering stark contrast ancient medina moroccan cuisine journey morocco marrakech would complete without indulging local cuisine tagines couscous pastilla many dish combine plethora flavor spice like saffron cumin mint paired moroccan mint tea culinary experience truly unparalleled conclusion morocco marrakech heart offer traveler unparalleled journey time convergence history culture architecture gastronomy make enthralling destination seeking adventure reflection moroccan proverb go doe travel doe know value men case morocco marrakech value men also value time tradition tale spanned century\n"
          ]
        }
      ]
    },
    {
      "cell_type": "code",
      "source": [
        "# Entraînement du modèle Word2Vec\n",
        "model = Word2Vec([preprocessed_text], vector_size=100, window=5, min_count=1, workers=4)\n",
        "print(\"le modele est :\\n\",model)"
      ],
      "metadata": {
        "colab": {
          "base_uri": "https://localhost:8080/"
        },
        "id": "Q2uBqZu-BGhz",
        "outputId": "c09eac97-f17e-4e06-bd6e-f54a2f25e118"
      },
      "execution_count": 28,
      "outputs": [
        {
          "output_type": "stream",
          "name": "stdout",
          "text": [
            "le modele est :\n",
            " Word2Vec<vocab=210, vector_size=100, alpha=0.025>\n"
          ]
        }
      ]
    },
    {
      "cell_type": "code",
      "source": [
        "# Répondre aux questions\n",
        "\n",
        "# 1- Extraire la représentation vectorielle d'un mot\n",
        "word_representation = model.wv['city']\n",
        "print(\"Représentation vectorielle du mot 'city ':\\n\", word_representation)\n",
        "print(\"\\n\")\n"
      ],
      "metadata": {
        "colab": {
          "base_uri": "https://localhost:8080/"
        },
        "id": "M7TopZi3BS6T",
        "outputId": "40565bb4-4bd7-49a3-8633-d07cfbc85a77"
      },
      "execution_count": 32,
      "outputs": [
        {
          "output_type": "stream",
          "name": "stdout",
          "text": [
            "Représentation vectorielle du mot 'city ':\n",
            " [ 6.6840606e-05  3.1188640e-03 -6.8116994e-03 -1.3588533e-03\n",
            "  7.6577305e-03  7.2906408e-03 -3.6394231e-03  2.7852328e-03\n",
            " -8.3541395e-03  6.1603719e-03 -4.6651294e-03 -3.2402035e-03\n",
            "  9.3045970e-03  8.8078494e-04  7.4190558e-03 -6.1002760e-03\n",
            "  5.1966719e-03  9.8368702e-03 -8.4752934e-03 -5.2442933e-03\n",
            " -7.0639197e-03 -4.8781210e-03 -3.7897250e-03 -8.5581690e-03\n",
            "  7.9859551e-03 -4.8291935e-03  8.3947172e-03  5.2166432e-03\n",
            " -6.6138227e-03  3.9728591e-03  5.4788487e-03 -7.3660547e-03\n",
            " -7.3885047e-03 -2.5590172e-03 -8.6483825e-03 -1.4446034e-03\n",
            " -3.9377570e-04  3.2494597e-03  1.4309619e-03 -9.8068221e-04\n",
            " -5.6739775e-03  1.6239820e-03 -9.3661557e-04  6.7910221e-03\n",
            "  4.0455121e-03  4.5521399e-03  1.3829398e-03 -2.6977756e-03\n",
            " -4.3734605e-03 -9.9467742e-04  1.5070331e-03 -2.6580691e-03\n",
            " -7.0523089e-03 -7.8059910e-03 -9.1274185e-03 -5.9446665e-03\n",
            " -1.8378758e-03 -4.3540122e-03 -6.5469230e-03 -3.6824360e-03\n",
            "  4.2632846e-03 -3.7314943e-03  8.3786864e-03  1.4618312e-03\n",
            " -7.2711762e-03  9.4153779e-03  7.7013741e-03  5.5683195e-03\n",
            " -6.8871272e-03  5.9258291e-03  3.9750077e-03  5.2471035e-03\n",
            "  4.2781392e-03  1.8798915e-03 -3.0680031e-03  8.3938716e-03\n",
            "  9.6753156e-03  3.7549806e-03 -2.8483977e-03  2.2437674e-05\n",
            "  1.2170192e-03 -8.4329564e-03 -8.2810456e-03 -1.5548838e-04\n",
            "  1.1727117e-03 -5.7571847e-03 -4.6686190e-03 -7.3044593e-03\n",
            "  8.3575435e-03  1.1910800e-04 -4.4291825e-03  5.7828361e-03\n",
            "  9.2271185e-03 -4.0549347e-03  8.1037180e-03  5.4587238e-03\n",
            "  5.8635431e-03  4.5349885e-04  8.2261087e-03 -7.0421086e-03]\n",
            "\n",
            "\n"
          ]
        }
      ]
    },
    {
      "cell_type": "code",
      "source": [
        "# 2- Calculer la similarité entre deux mots\n",
        "similarity_score = model.wv.similarity('morocco', 'marrakech')\n",
        "print(\"Similarité entre 'morocco' et 'marrakech':\\n\", similarity_score)"
      ],
      "metadata": {
        "colab": {
          "base_uri": "https://localhost:8080/"
        },
        "id": "g5mCNPpfByA0",
        "outputId": "cf0a68d1-0d7f-470f-eeba-1ce25046319e"
      },
      "execution_count": 33,
      "outputs": [
        {
          "output_type": "stream",
          "name": "stdout",
          "text": [
            "Similarité entre 'morocco' et 'marrakech':\n",
            " -0.0076152626\n"
          ]
        }
      ]
    },
    {
      "cell_type": "code",
      "source": [
        "# 3- Extraire les mots contextuels (les plus similaires) pour un mot central donné\n",
        "similar_words = model.wv.most_similar('cultural', topn=5)\n",
        "print(\"Mots contextuels les plus similaires à 'morocco':\\n\", similar_words)"
      ],
      "metadata": {
        "colab": {
          "base_uri": "https://localhost:8080/"
        },
        "id": "UGcE6XMOB4jD",
        "outputId": "590d72aa-ff89-48e4-c4de-bf5b1a66eb15"
      },
      "execution_count": 35,
      "outputs": [
        {
          "output_type": "stream",
          "name": "stdout",
          "text": [
            "Mots contextuels les plus similaires à 'morocco':\n",
            " [('djemaa', 0.3165621757507324), ('narrow', 0.2873810827732086), ('boutique', 0.2069958746433258), ('contemporary', 0.20449739694595337), ('berber', 0.18248510360717773)]\n"
          ]
        }
      ]
    }
  ]
}